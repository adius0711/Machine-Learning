{
 "cells": [
  {
   "cell_type": "code",
   "execution_count": 138,
   "metadata": {
    "colab": {
     "base_uri": "https://localhost:8080/"
    },
    "id": "-AeNCvhXGCNT",
    "outputId": "c860efe1-65c6-4d51-b395-c1115800499b"
   },
   "outputs": [
    {
     "name": "stdout",
     "output_type": "stream",
     "text": [
      "Requirement already satisfied: scikit-learn in /usr/local/lib/python3.7/dist-packages (0.22.2.post1)\n",
      "Requirement already satisfied: numpy in /usr/local/lib/python3.7/dist-packages (1.19.5)\n",
      "Requirement already satisfied: pandas in /usr/local/lib/python3.7/dist-packages (1.1.5)\n",
      "Requirement already satisfied: seaborn in /usr/local/lib/python3.7/dist-packages (0.11.1)\n",
      "Requirement already satisfied: scipy>=0.17.0 in /usr/local/lib/python3.7/dist-packages (from scikit-learn) (1.4.1)\n",
      "Requirement already satisfied: joblib>=0.11 in /usr/local/lib/python3.7/dist-packages (from scikit-learn) (1.0.1)\n",
      "Requirement already satisfied: python-dateutil>=2.7.3 in /usr/local/lib/python3.7/dist-packages (from pandas) (2.8.1)\n",
      "Requirement already satisfied: pytz>=2017.2 in /usr/local/lib/python3.7/dist-packages (from pandas) (2018.9)\n",
      "Requirement already satisfied: matplotlib>=2.2 in /usr/local/lib/python3.7/dist-packages (from seaborn) (3.2.2)\n",
      "Requirement already satisfied: six>=1.5 in /usr/local/lib/python3.7/dist-packages (from python-dateutil>=2.7.3->pandas) (1.15.0)\n",
      "Requirement already satisfied: pyparsing!=2.0.4,!=2.1.2,!=2.1.6,>=2.0.1 in /usr/local/lib/python3.7/dist-packages (from matplotlib>=2.2->seaborn) (2.4.7)\n",
      "Requirement already satisfied: kiwisolver>=1.0.1 in /usr/local/lib/python3.7/dist-packages (from matplotlib>=2.2->seaborn) (1.3.1)\n",
      "Requirement already satisfied: cycler>=0.10 in /usr/local/lib/python3.7/dist-packages (from matplotlib>=2.2->seaborn) (0.10.0)\n"
     ]
    }
   ],
   "source": [
    "!pip3 install scikit-learn numpy pandas seaborn"
   ]
  },
  {
   "cell_type": "code",
   "execution_count": 139,
   "metadata": {
    "id": "Ott8FRExGbhX"
   },
   "outputs": [],
   "source": [
    "import numpy as np # linear algebra\n",
    "import pandas as pd # data processing, CSV file I/O (e.g. pd.read_csv)\n",
    "from sklearn import preprocessing\n",
    "from sklearn.model_selection import train_test_split\n",
    "from sklearn.feature_extraction.text import TfidfVectorizer\n",
    "from tqdm import tqdm_notebook\n",
    "import json\n",
    "import nltk\n",
    "import re\n",
    "import matplotlib.pyplot as plt \n",
    "import seaborn as sns\n",
    "from nltk.tokenize import word_tokenize\n",
    "from nltk.stem.snowball import SnowballStemmer\n",
    "from sklearn.feature_extraction.text import CountVectorizer\n",
    "from sklearn.multiclass import OneVsRestClassifier\n",
    "from sklearn.linear_model import SGDClassifier\n",
    "from sklearn import metrics\n",
    "from sklearn.metrics import f1_score,precision_score,recall_score\n",
    "from sklearn import svm\n",
    "\n",
    "import os"
   ]
  },
  {
   "cell_type": "code",
   "execution_count": 140,
   "metadata": {
    "id": "1WbAMP3vGev7"
   },
   "outputs": [],
   "source": [
    "train_df = pd.read_csv(\"train.csv\")\n",
    "test_df = pd.read_csv(\"test.csv\")"
   ]
  },
  {
   "cell_type": "code",
   "execution_count": 141,
   "metadata": {
    "colab": {
     "base_uri": "https://localhost:8080/",
     "height": 399
    },
    "id": "8GMOkMZ7G3Xa",
    "outputId": "bf51563e-2dae-48b3-d092-0874e10ee161"
   },
   "outputs": [
    {
     "data": {
      "text/html": [
       "<div>\n",
       "<style scoped>\n",
       "    .dataframe tbody tr th:only-of-type {\n",
       "        vertical-align: middle;\n",
       "    }\n",
       "\n",
       "    .dataframe tbody tr th {\n",
       "        vertical-align: top;\n",
       "    }\n",
       "\n",
       "    .dataframe thead th {\n",
       "        text-align: right;\n",
       "    }\n",
       "</style>\n",
       "<table border=\"1\" class=\"dataframe\">\n",
       "  <thead>\n",
       "    <tr style=\"text-align: right;\">\n",
       "      <th></th>\n",
       "      <th>movie_id</th>\n",
       "      <th>movie_name</th>\n",
       "      <th>plot</th>\n",
       "      <th>genre</th>\n",
       "    </tr>\n",
       "  </thead>\n",
       "  <tbody>\n",
       "    <tr>\n",
       "      <th>0</th>\n",
       "      <td>23890098</td>\n",
       "      <td>Taxi Blues</td>\n",
       "      <td>Shlykov, a hard-working taxi driver and Lyosha...</td>\n",
       "      <td>['World cinema', 'Drama']</td>\n",
       "    </tr>\n",
       "    <tr>\n",
       "      <th>1</th>\n",
       "      <td>31186339</td>\n",
       "      <td>The Hunger Games</td>\n",
       "      <td>The nation of Panem consists of a wealthy Capi...</td>\n",
       "      <td>['Action/Adventure', 'Action', 'Science Fictio...</td>\n",
       "    </tr>\n",
       "    <tr>\n",
       "      <th>2</th>\n",
       "      <td>20663735</td>\n",
       "      <td>Narasimham</td>\n",
       "      <td>Poovalli Induchoodan  is sentenced for six yea...</td>\n",
       "      <td>['Musical', 'Action', 'Drama']</td>\n",
       "    </tr>\n",
       "    <tr>\n",
       "      <th>3</th>\n",
       "      <td>2231378</td>\n",
       "      <td>The Lemon Drop Kid</td>\n",
       "      <td>The Lemon Drop Kid , a New York City swindler,...</td>\n",
       "      <td>['Comedy']</td>\n",
       "    </tr>\n",
       "    <tr>\n",
       "      <th>4</th>\n",
       "      <td>595909</td>\n",
       "      <td>A Cry in the Dark</td>\n",
       "      <td>Seventh-day Adventist Church pastor Michael Ch...</td>\n",
       "      <td>['Crime Fiction', 'World cinema', 'Drama']</td>\n",
       "    </tr>\n",
       "    <tr>\n",
       "      <th>...</th>\n",
       "      <td>...</td>\n",
       "      <td>...</td>\n",
       "      <td>...</td>\n",
       "      <td>...</td>\n",
       "    </tr>\n",
       "    <tr>\n",
       "      <th>24995</th>\n",
       "      <td>2632500</td>\n",
       "      <td>Single White Female</td>\n",
       "      <td>Allison \"Allie\" Jones  is a software designer ...</td>\n",
       "      <td>['Thriller', 'Drama']</td>\n",
       "    </tr>\n",
       "    <tr>\n",
       "      <th>24996</th>\n",
       "      <td>30237779</td>\n",
       "      <td>On the Way Home</td>\n",
       "      <td>A family loses their daughter, Sarah, in an ca...</td>\n",
       "      <td>['Short Film']</td>\n",
       "    </tr>\n",
       "    <tr>\n",
       "      <th>24997</th>\n",
       "      <td>25971350</td>\n",
       "      <td>Blue Valentine</td>\n",
       "      <td>The movie starts in the present and in clips l...</td>\n",
       "      <td>['Drama', 'Indie', 'Romance Film', 'Romantic d...</td>\n",
       "    </tr>\n",
       "    <tr>\n",
       "      <th>24998</th>\n",
       "      <td>34985261</td>\n",
       "      <td>Ki l'ambouba</td>\n",
       "      <td>Like every day, Hallouma leaves her home to go...</td>\n",
       "      <td>['Animation']</td>\n",
       "    </tr>\n",
       "    <tr>\n",
       "      <th>24999</th>\n",
       "      <td>21091632</td>\n",
       "      <td>When I Met U</td>\n",
       "      <td>Jenny  is an unpretentious mall promodizer sea...</td>\n",
       "      <td>['Romantic drama', 'Romance Film', 'Romantic c...</td>\n",
       "    </tr>\n",
       "  </tbody>\n",
       "</table>\n",
       "<p>25000 rows × 4 columns</p>\n",
       "</div>"
      ],
      "text/plain": [
       "       movie_id  ...                                              genre\n",
       "0      23890098  ...                          ['World cinema', 'Drama']\n",
       "1      31186339  ...  ['Action/Adventure', 'Action', 'Science Fictio...\n",
       "2      20663735  ...                     ['Musical', 'Action', 'Drama']\n",
       "3       2231378  ...                                         ['Comedy']\n",
       "4        595909  ...         ['Crime Fiction', 'World cinema', 'Drama']\n",
       "...         ...  ...                                                ...\n",
       "24995   2632500  ...                              ['Thriller', 'Drama']\n",
       "24996  30237779  ...                                     ['Short Film']\n",
       "24997  25971350  ...  ['Drama', 'Indie', 'Romance Film', 'Romantic d...\n",
       "24998  34985261  ...                                      ['Animation']\n",
       "24999  21091632  ...  ['Romantic drama', 'Romance Film', 'Romantic c...\n",
       "\n",
       "[25000 rows x 4 columns]"
      ]
     },
     "execution_count": 141,
     "metadata": {
      "tags": []
     },
     "output_type": "execute_result"
    }
   ],
   "source": [
    "train_df"
   ]
  },
  {
   "cell_type": "code",
   "execution_count": 142,
   "metadata": {
    "colab": {
     "base_uri": "https://localhost:8080/",
     "height": 399
    },
    "id": "EnxF31tNLLMW",
    "outputId": "649cc3ca-eb68-4936-f0d1-dc1f368f33d0"
   },
   "outputs": [
    {
     "data": {
      "text/html": [
       "<div>\n",
       "<style scoped>\n",
       "    .dataframe tbody tr th:only-of-type {\n",
       "        vertical-align: middle;\n",
       "    }\n",
       "\n",
       "    .dataframe tbody tr th {\n",
       "        vertical-align: top;\n",
       "    }\n",
       "\n",
       "    .dataframe thead th {\n",
       "        text-align: right;\n",
       "    }\n",
       "</style>\n",
       "<table border=\"1\" class=\"dataframe\">\n",
       "  <thead>\n",
       "    <tr style=\"text-align: right;\">\n",
       "      <th></th>\n",
       "      <th>movie_id</th>\n",
       "      <th>movie_name</th>\n",
       "      <th>plot</th>\n",
       "      <th>genre</th>\n",
       "    </tr>\n",
       "  </thead>\n",
       "  <tbody>\n",
       "    <tr>\n",
       "      <th>0</th>\n",
       "      <td>33628861</td>\n",
       "      <td>Kan Simittum Neram</td>\n",
       "      <td>The film begins with a man ([[Karthik  who tri...</td>\n",
       "      <td>['Thriller']</td>\n",
       "    </tr>\n",
       "    <tr>\n",
       "      <th>1</th>\n",
       "      <td>30413435</td>\n",
       "      <td>A Million</td>\n",
       "      <td>Eight people enter a reality TV show to win 10...</td>\n",
       "      <td>['Thriller']</td>\n",
       "    </tr>\n",
       "    <tr>\n",
       "      <th>2</th>\n",
       "      <td>33643382</td>\n",
       "      <td>The Rainbowmaker</td>\n",
       "      <td>Datho  has been innocent in prison for many ye...</td>\n",
       "      <td>['Romance Film']</td>\n",
       "    </tr>\n",
       "    <tr>\n",
       "      <th>3</th>\n",
       "      <td>3961516</td>\n",
       "      <td>Distant</td>\n",
       "      <td>Uzak tells the story of Yusuf , a young factor...</td>\n",
       "      <td>['World cinema', 'Drama']</td>\n",
       "    </tr>\n",
       "    <tr>\n",
       "      <th>4</th>\n",
       "      <td>155303</td>\n",
       "      <td>Heavy Metal</td>\n",
       "      <td>The film's title sequence story  opens with a...</td>\n",
       "      <td>['Animation', 'Indie', 'Science Fiction', 'Adv...</td>\n",
       "    </tr>\n",
       "    <tr>\n",
       "      <th>...</th>\n",
       "      <td>...</td>\n",
       "      <td>...</td>\n",
       "      <td>...</td>\n",
       "      <td>...</td>\n",
       "    </tr>\n",
       "    <tr>\n",
       "      <th>6103</th>\n",
       "      <td>29046736</td>\n",
       "      <td>I Don't Want to Be Born</td>\n",
       "      <td>Lucy  is working as a dancer in a sleazy strip...</td>\n",
       "      <td>['Horror']</td>\n",
       "    </tr>\n",
       "    <tr>\n",
       "      <th>6104</th>\n",
       "      <td>30352708</td>\n",
       "      <td>Paju</td>\n",
       "      <td>Twenty-something Eun-mo listens to a taxi driv...</td>\n",
       "      <td>['Romantic drama', 'Romance Film', 'World cine...</td>\n",
       "    </tr>\n",
       "    <tr>\n",
       "      <th>6105</th>\n",
       "      <td>2867597</td>\n",
       "      <td>Mr. Bill's Real Life Adventures</td>\n",
       "      <td>An attempt to bring the famed \"Mr. Bill\" clay ...</td>\n",
       "      <td>['Comedy']</td>\n",
       "    </tr>\n",
       "    <tr>\n",
       "      <th>6106</th>\n",
       "      <td>8628195</td>\n",
       "      <td>Kabuliwala</td>\n",
       "      <td>Abdur Rehman Khan , a middle-aged dry fruit se...</td>\n",
       "      <td>['Drama']</td>\n",
       "    </tr>\n",
       "    <tr>\n",
       "      <th>6107</th>\n",
       "      <td>6040782</td>\n",
       "      <td>Dad's Army</td>\n",
       "      <td>1940 - Operation Dynamo has just taken place. ...</td>\n",
       "      <td>['Comedy']</td>\n",
       "    </tr>\n",
       "  </tbody>\n",
       "</table>\n",
       "<p>6108 rows × 4 columns</p>\n",
       "</div>"
      ],
      "text/plain": [
       "      movie_id  ...                                              genre\n",
       "0     33628861  ...                                       ['Thriller']\n",
       "1     30413435  ...                                       ['Thriller']\n",
       "2     33643382  ...                                   ['Romance Film']\n",
       "3      3961516  ...                          ['World cinema', 'Drama']\n",
       "4       155303  ...  ['Animation', 'Indie', 'Science Fiction', 'Adv...\n",
       "...        ...  ...                                                ...\n",
       "6103  29046736  ...                                         ['Horror']\n",
       "6104  30352708  ...  ['Romantic drama', 'Romance Film', 'World cine...\n",
       "6105   2867597  ...                                         ['Comedy']\n",
       "6106   8628195  ...                                          ['Drama']\n",
       "6107   6040782  ...                                         ['Comedy']\n",
       "\n",
       "[6108 rows x 4 columns]"
      ]
     },
     "execution_count": 142,
     "metadata": {
      "tags": []
     },
     "output_type": "execute_result"
    }
   ],
   "source": [
    "test_df"
   ]
  },
  {
   "cell_type": "code",
   "execution_count": 143,
   "metadata": {
    "colab": {
     "base_uri": "https://localhost:8080/"
    },
    "id": "wQ7g-bpMG-tJ",
    "outputId": "0ead7cd4-0413-4b16-fca6-3b4ed07ecea9"
   },
   "outputs": [
    {
     "data": {
      "text/plain": [
       "['Drama']                                                                                  2942\n",
       "['Comedy']                                                                                 1087\n",
       "['Horror']                                                                                  788\n",
       "['World cinema', 'Drama']                                                                   517\n",
       "['Short Film']                                                                              486\n",
       "                                                                                           ... \n",
       "['Musical', 'Comedy', 'Animation', 'Adventure', 'Science Fiction']                            1\n",
       "['Crime Fiction', 'Action', 'Comedy', 'Indie', 'Thriller', 'Drama']                           1\n",
       "['Action', 'Comedy', 'Indie', 'Adventure', 'Drama', 'Action/Adventure', 'World cinema']       1\n",
       "['Musical', 'Family Film', 'Comedy', 'Romance Film', 'Animation', 'Drama']                    1\n",
       "['Black-and-white', 'Short Film', 'Horror', 'Indie', 'Science Fiction']                       1\n",
       "Name: genre, Length: 2196, dtype: int64"
      ]
     },
     "execution_count": 143,
     "metadata": {
      "tags": []
     },
     "output_type": "execute_result"
    }
   ],
   "source": [
    "train_df.genre.value_counts()"
   ]
  },
  {
   "cell_type": "code",
   "execution_count": 144,
   "metadata": {
    "id": "BWVyHwn3NXjq"
   },
   "outputs": [],
   "source": [
    "def clean_text(text):\n",
    "    # remove backslash-apostrophe \n",
    "    text = re.sub(\"\\'\", \"\", text) \n",
    "    # remove everything except alphabets \n",
    "    text = re.sub(\"[^a-zA-Z]\",\" \",text) \n",
    "    # remove whitespaces \n",
    "    text = ' '.join(text.split()) \n",
    "    # convert text to lowercase \n",
    "    text = text.lower() \n",
    "    \n",
    "    return text\n",
    "\n",
    "train_df['plot'] = train_df['plot'].apply(lambda x: clean_text(x))\n",
    "test_df['plot'] = test_df['plot'].apply(lambda x: clean_text(x))\n",
    "\n",
    "train_df['genre'] = train_df['genre'].apply(lambda x: clean_text(x))\n",
    "test_df['genre'] = test_df['genre'].apply(lambda x: clean_text(x))"
   ]
  },
  {
   "cell_type": "code",
   "execution_count": 145,
   "metadata": {
    "colab": {
     "base_uri": "https://localhost:8080/",
     "height": 399
    },
    "id": "OQMmnyvWNgeB",
    "outputId": "231dd041-e8e7-4b71-e5a0-771569b546ed"
   },
   "outputs": [
    {
     "data": {
      "text/html": [
       "<div>\n",
       "<style scoped>\n",
       "    .dataframe tbody tr th:only-of-type {\n",
       "        vertical-align: middle;\n",
       "    }\n",
       "\n",
       "    .dataframe tbody tr th {\n",
       "        vertical-align: top;\n",
       "    }\n",
       "\n",
       "    .dataframe thead th {\n",
       "        text-align: right;\n",
       "    }\n",
       "</style>\n",
       "<table border=\"1\" class=\"dataframe\">\n",
       "  <thead>\n",
       "    <tr style=\"text-align: right;\">\n",
       "      <th></th>\n",
       "      <th>movie_id</th>\n",
       "      <th>movie_name</th>\n",
       "      <th>plot</th>\n",
       "      <th>genre</th>\n",
       "    </tr>\n",
       "  </thead>\n",
       "  <tbody>\n",
       "    <tr>\n",
       "      <th>0</th>\n",
       "      <td>23890098</td>\n",
       "      <td>Taxi Blues</td>\n",
       "      <td>shlykov a hard working taxi driver and lyosha ...</td>\n",
       "      <td>world cinema drama</td>\n",
       "    </tr>\n",
       "    <tr>\n",
       "      <th>1</th>\n",
       "      <td>31186339</td>\n",
       "      <td>The Hunger Games</td>\n",
       "      <td>the nation of panem consists of a wealthy capi...</td>\n",
       "      <td>action adventure action science fiction drama</td>\n",
       "    </tr>\n",
       "    <tr>\n",
       "      <th>2</th>\n",
       "      <td>20663735</td>\n",
       "      <td>Narasimham</td>\n",
       "      <td>poovalli induchoodan is sentenced for six year...</td>\n",
       "      <td>musical action drama</td>\n",
       "    </tr>\n",
       "    <tr>\n",
       "      <th>3</th>\n",
       "      <td>2231378</td>\n",
       "      <td>The Lemon Drop Kid</td>\n",
       "      <td>the lemon drop kid a new york city swindler is...</td>\n",
       "      <td>comedy</td>\n",
       "    </tr>\n",
       "    <tr>\n",
       "      <th>4</th>\n",
       "      <td>595909</td>\n",
       "      <td>A Cry in the Dark</td>\n",
       "      <td>seventh day adventist church pastor michael ch...</td>\n",
       "      <td>crime fiction world cinema drama</td>\n",
       "    </tr>\n",
       "    <tr>\n",
       "      <th>...</th>\n",
       "      <td>...</td>\n",
       "      <td>...</td>\n",
       "      <td>...</td>\n",
       "      <td>...</td>\n",
       "    </tr>\n",
       "    <tr>\n",
       "      <th>24995</th>\n",
       "      <td>2632500</td>\n",
       "      <td>Single White Female</td>\n",
       "      <td>allison allie jones is a software designer in ...</td>\n",
       "      <td>thriller drama</td>\n",
       "    </tr>\n",
       "    <tr>\n",
       "      <th>24996</th>\n",
       "      <td>30237779</td>\n",
       "      <td>On the Way Home</td>\n",
       "      <td>a family loses their daughter sarah in an car ...</td>\n",
       "      <td>short film</td>\n",
       "    </tr>\n",
       "    <tr>\n",
       "      <th>24997</th>\n",
       "      <td>25971350</td>\n",
       "      <td>Blue Valentine</td>\n",
       "      <td>the movie starts in the present and in clips l...</td>\n",
       "      <td>drama indie romance film romantic drama</td>\n",
       "    </tr>\n",
       "    <tr>\n",
       "      <th>24998</th>\n",
       "      <td>34985261</td>\n",
       "      <td>Ki l'ambouba</td>\n",
       "      <td>like every day hallouma leaves her home to go ...</td>\n",
       "      <td>animation</td>\n",
       "    </tr>\n",
       "    <tr>\n",
       "      <th>24999</th>\n",
       "      <td>21091632</td>\n",
       "      <td>When I Met U</td>\n",
       "      <td>jenny is an unpretentious mall promodizer sear...</td>\n",
       "      <td>romantic drama romance film romantic comedy dr...</td>\n",
       "    </tr>\n",
       "  </tbody>\n",
       "</table>\n",
       "<p>25000 rows × 4 columns</p>\n",
       "</div>"
      ],
      "text/plain": [
       "       movie_id  ...                                              genre\n",
       "0      23890098  ...                                 world cinema drama\n",
       "1      31186339  ...      action adventure action science fiction drama\n",
       "2      20663735  ...                               musical action drama\n",
       "3       2231378  ...                                             comedy\n",
       "4        595909  ...                   crime fiction world cinema drama\n",
       "...         ...  ...                                                ...\n",
       "24995   2632500  ...                                     thriller drama\n",
       "24996  30237779  ...                                         short film\n",
       "24997  25971350  ...            drama indie romance film romantic drama\n",
       "24998  34985261  ...                                          animation\n",
       "24999  21091632  ...  romantic drama romance film romantic comedy dr...\n",
       "\n",
       "[25000 rows x 4 columns]"
      ]
     },
     "execution_count": 145,
     "metadata": {
      "tags": []
     },
     "output_type": "execute_result"
    }
   ],
   "source": [
    "train_df"
   ]
  },
  {
   "cell_type": "code",
   "execution_count": 146,
   "metadata": {
    "colab": {
     "base_uri": "https://localhost:8080/",
     "height": 399
    },
    "id": "g56y-UqreZW0",
    "outputId": "912f0f56-5280-4760-fc41-d6975b7d323a"
   },
   "outputs": [
    {
     "data": {
      "text/html": [
       "<div>\n",
       "<style scoped>\n",
       "    .dataframe tbody tr th:only-of-type {\n",
       "        vertical-align: middle;\n",
       "    }\n",
       "\n",
       "    .dataframe tbody tr th {\n",
       "        vertical-align: top;\n",
       "    }\n",
       "\n",
       "    .dataframe thead th {\n",
       "        text-align: right;\n",
       "    }\n",
       "</style>\n",
       "<table border=\"1\" class=\"dataframe\">\n",
       "  <thead>\n",
       "    <tr style=\"text-align: right;\">\n",
       "      <th></th>\n",
       "      <th>movie_id</th>\n",
       "      <th>movie_name</th>\n",
       "      <th>plot</th>\n",
       "      <th>genre</th>\n",
       "    </tr>\n",
       "  </thead>\n",
       "  <tbody>\n",
       "    <tr>\n",
       "      <th>0</th>\n",
       "      <td>33628861</td>\n",
       "      <td>Kan Simittum Neram</td>\n",
       "      <td>the film begins with a man karthik who tried t...</td>\n",
       "      <td>thriller</td>\n",
       "    </tr>\n",
       "    <tr>\n",
       "      <th>1</th>\n",
       "      <td>30413435</td>\n",
       "      <td>A Million</td>\n",
       "      <td>eight people enter a reality tv show to win bi...</td>\n",
       "      <td>thriller</td>\n",
       "    </tr>\n",
       "    <tr>\n",
       "      <th>2</th>\n",
       "      <td>33643382</td>\n",
       "      <td>The Rainbowmaker</td>\n",
       "      <td>datho has been innocent in prison for many yea...</td>\n",
       "      <td>romance film</td>\n",
       "    </tr>\n",
       "    <tr>\n",
       "      <th>3</th>\n",
       "      <td>3961516</td>\n",
       "      <td>Distant</td>\n",
       "      <td>uzak tells the story of yusuf a young factory ...</td>\n",
       "      <td>world cinema drama</td>\n",
       "    </tr>\n",
       "    <tr>\n",
       "      <th>4</th>\n",
       "      <td>155303</td>\n",
       "      <td>Heavy Metal</td>\n",
       "      <td>the films title sequence story opens with a sp...</td>\n",
       "      <td>animation indie science fiction adventure</td>\n",
       "    </tr>\n",
       "    <tr>\n",
       "      <th>...</th>\n",
       "      <td>...</td>\n",
       "      <td>...</td>\n",
       "      <td>...</td>\n",
       "      <td>...</td>\n",
       "    </tr>\n",
       "    <tr>\n",
       "      <th>6103</th>\n",
       "      <td>29046736</td>\n",
       "      <td>I Don't Want to Be Born</td>\n",
       "      <td>lucy is working as a dancer in a sleazy strip ...</td>\n",
       "      <td>horror</td>\n",
       "    </tr>\n",
       "    <tr>\n",
       "      <th>6104</th>\n",
       "      <td>30352708</td>\n",
       "      <td>Paju</td>\n",
       "      <td>twenty something eun mo listens to a taxi driv...</td>\n",
       "      <td>romantic drama romance film world cinema drama</td>\n",
       "    </tr>\n",
       "    <tr>\n",
       "      <th>6105</th>\n",
       "      <td>2867597</td>\n",
       "      <td>Mr. Bill's Real Life Adventures</td>\n",
       "      <td>an attempt to bring the famed mr bill clay cha...</td>\n",
       "      <td>comedy</td>\n",
       "    </tr>\n",
       "    <tr>\n",
       "      <th>6106</th>\n",
       "      <td>8628195</td>\n",
       "      <td>Kabuliwala</td>\n",
       "      <td>abdur rehman khan a middle aged dry fruit sell...</td>\n",
       "      <td>drama</td>\n",
       "    </tr>\n",
       "    <tr>\n",
       "      <th>6107</th>\n",
       "      <td>6040782</td>\n",
       "      <td>Dad's Army</td>\n",
       "      <td>operation dynamo has just taken place from the...</td>\n",
       "      <td>comedy</td>\n",
       "    </tr>\n",
       "  </tbody>\n",
       "</table>\n",
       "<p>6108 rows × 4 columns</p>\n",
       "</div>"
      ],
      "text/plain": [
       "      movie_id  ...                                           genre\n",
       "0     33628861  ...                                        thriller\n",
       "1     30413435  ...                                        thriller\n",
       "2     33643382  ...                                    romance film\n",
       "3      3961516  ...                              world cinema drama\n",
       "4       155303  ...       animation indie science fiction adventure\n",
       "...        ...  ...                                             ...\n",
       "6103  29046736  ...                                          horror\n",
       "6104  30352708  ...  romantic drama romance film world cinema drama\n",
       "6105   2867597  ...                                          comedy\n",
       "6106   8628195  ...                                           drama\n",
       "6107   6040782  ...                                          comedy\n",
       "\n",
       "[6108 rows x 4 columns]"
      ]
     },
     "execution_count": 146,
     "metadata": {
      "tags": []
     },
     "output_type": "execute_result"
    }
   ],
   "source": [
    "test_df"
   ]
  },
  {
   "cell_type": "code",
   "execution_count": 147,
   "metadata": {
    "colab": {
     "base_uri": "https://localhost:8080/",
     "height": 877
    },
    "id": "VGo08_0pZD8k",
    "outputId": "847de7e0-a22e-4b0f-a074-57a1f1b07692"
   },
   "outputs": [
    {
     "data": {
      "image/png": "[encoded data removed]",
      "text/plain": [
       "<Figure size 864x1080 with 1 Axes>"
      ]
     },
     "metadata": {
      "needs_background": "light",
      "tags": []
     },
     "output_type": "display_data"
    }
   ],
   "source": [
    "def freq_words(x, terms = 30): \n",
    "  all_words = ' '.join([text for text in x]) \n",
    "  all_words = all_words.split() \n",
    "  fdist = nltk.FreqDist(all_words) \n",
    "  words_df = pd.DataFrame({'word':list(fdist.keys()), 'count':list(fdist.values())}) \n",
    "  \n",
    "  # selecting top 20 most frequent words \n",
    "  d = words_df.nlargest(columns=\"count\", n = terms) \n",
    "  \n",
    "  # visualize words and frequencies\n",
    "  plt.figure(figsize=(12,15)) \n",
    "  ax = sns.barplot(data=d, x= \"count\", y = \"word\") \n",
    "  ax.set(ylabel = 'Word') \n",
    "  plt.show()\n",
    "  \n",
    "# print 100 most frequent words \n",
    "freq_words(train_df['plot'], 100)"
   ]
  },
  {
   "cell_type": "code",
   "execution_count": 148,
   "metadata": {
    "colab": {
     "base_uri": "https://localhost:8080/",
     "height": 877
    },
    "id": "Ae78m0ysZUDT",
    "outputId": "d7a419dc-14c0-4d1a-eb79-767a837dd66a"
   },
   "outputs": [
    {
     "data": {
      "image/png": "[encoded data removed]",
      "text/plain": [
       "<Figure size 864x1080 with 1 Axes>"
      ]
     },
     "metadata": {
      "needs_background": "light",
      "tags": []
     },
     "output_type": "display_data"
    }
   ],
   "source": [
    "freq_words(test_df['plot'], 100)"
   ]
  },
  {
   "cell_type": "code",
   "execution_count": 149,
   "metadata": {
    "colab": {
     "base_uri": "https://localhost:8080/",
     "height": 435
    },
    "id": "Oj7LPc2gZkIZ",
    "outputId": "ffa3d709-a673-472d-da56-574d8be9e4ec"
   },
   "outputs": [
    {
     "name": "stdout",
     "output_type": "stream",
     "text": [
      "[nltk_data] Downloading package stopwords to /root/nltk_data...\n",
      "[nltk_data]   Package stopwords is already up-to-date!\n"
     ]
    },
    {
     "data": {
      "text/html": [
       "<div>\n",
       "<style scoped>\n",
       "    .dataframe tbody tr th:only-of-type {\n",
       "        vertical-align: middle;\n",
       "    }\n",
       "\n",
       "    .dataframe tbody tr th {\n",
       "        vertical-align: top;\n",
       "    }\n",
       "\n",
       "    .dataframe thead th {\n",
       "        text-align: right;\n",
       "    }\n",
       "</style>\n",
       "<table border=\"1\" class=\"dataframe\">\n",
       "  <thead>\n",
       "    <tr style=\"text-align: right;\">\n",
       "      <th></th>\n",
       "      <th>movie_id</th>\n",
       "      <th>movie_name</th>\n",
       "      <th>plot</th>\n",
       "      <th>genre</th>\n",
       "    </tr>\n",
       "  </thead>\n",
       "  <tbody>\n",
       "    <tr>\n",
       "      <th>0</th>\n",
       "      <td>23890098</td>\n",
       "      <td>Taxi Blues</td>\n",
       "      <td>shlykov hard working taxi driver lyosha saxoph...</td>\n",
       "      <td>world cinema drama</td>\n",
       "    </tr>\n",
       "    <tr>\n",
       "      <th>1</th>\n",
       "      <td>31186339</td>\n",
       "      <td>The Hunger Games</td>\n",
       "      <td>nation panem consists wealthy capitol twelve p...</td>\n",
       "      <td>action adventure action science fiction drama</td>\n",
       "    </tr>\n",
       "    <tr>\n",
       "      <th>2</th>\n",
       "      <td>20663735</td>\n",
       "      <td>Narasimham</td>\n",
       "      <td>poovalli induchoodan sentenced six years priso...</td>\n",
       "      <td>musical action drama</td>\n",
       "    </tr>\n",
       "    <tr>\n",
       "      <th>3</th>\n",
       "      <td>2231378</td>\n",
       "      <td>The Lemon Drop Kid</td>\n",
       "      <td>lemon drop kid new york city swindler illegall...</td>\n",
       "      <td>comedy</td>\n",
       "    </tr>\n",
       "    <tr>\n",
       "      <th>4</th>\n",
       "      <td>595909</td>\n",
       "      <td>A Cry in the Dark</td>\n",
       "      <td>seventh day adventist church pastor michael ch...</td>\n",
       "      <td>crime fiction world cinema drama</td>\n",
       "    </tr>\n",
       "    <tr>\n",
       "      <th>...</th>\n",
       "      <td>...</td>\n",
       "      <td>...</td>\n",
       "      <td>...</td>\n",
       "      <td>...</td>\n",
       "    </tr>\n",
       "    <tr>\n",
       "      <th>24995</th>\n",
       "      <td>2632500</td>\n",
       "      <td>Single White Female</td>\n",
       "      <td>allison allie jones software designer new york...</td>\n",
       "      <td>thriller drama</td>\n",
       "    </tr>\n",
       "    <tr>\n",
       "      <th>24996</th>\n",
       "      <td>30237779</td>\n",
       "      <td>On the Way Home</td>\n",
       "      <td>family loses daughter sarah car accident frien...</td>\n",
       "      <td>short film</td>\n",
       "    </tr>\n",
       "    <tr>\n",
       "      <th>24997</th>\n",
       "      <td>25971350</td>\n",
       "      <td>Blue Valentine</td>\n",
       "      <td>movie starts present clips looks back cindy de...</td>\n",
       "      <td>drama indie romance film romantic drama</td>\n",
       "    </tr>\n",
       "    <tr>\n",
       "      <th>24998</th>\n",
       "      <td>34985261</td>\n",
       "      <td>Ki l'ambouba</td>\n",
       "      <td>like every day hallouma leaves home go work sp...</td>\n",
       "      <td>animation</td>\n",
       "    </tr>\n",
       "    <tr>\n",
       "      <th>24999</th>\n",
       "      <td>21091632</td>\n",
       "      <td>When I Met U</td>\n",
       "      <td>jenny unpretentious mall promodizer searching ...</td>\n",
       "      <td>romantic drama romance film romantic comedy dr...</td>\n",
       "    </tr>\n",
       "  </tbody>\n",
       "</table>\n",
       "<p>25000 rows × 4 columns</p>\n",
       "</div>"
      ],
      "text/plain": [
       "       movie_id  ...                                              genre\n",
       "0      23890098  ...                                 world cinema drama\n",
       "1      31186339  ...      action adventure action science fiction drama\n",
       "2      20663735  ...                               musical action drama\n",
       "3       2231378  ...                                             comedy\n",
       "4        595909  ...                   crime fiction world cinema drama\n",
       "...         ...  ...                                                ...\n",
       "24995   2632500  ...                                     thriller drama\n",
       "24996  30237779  ...                                         short film\n",
       "24997  25971350  ...            drama indie romance film romantic drama\n",
       "24998  34985261  ...                                          animation\n",
       "24999  21091632  ...  romantic drama romance film romantic comedy dr...\n",
       "\n",
       "[25000 rows x 4 columns]"
      ]
     },
     "execution_count": 149,
     "metadata": {
      "tags": []
     },
     "output_type": "execute_result"
    }
   ],
   "source": [
    "from nltk.corpus import stopwords\n",
    "nltk.download('stopwords')\n",
    "stop_words = set(stopwords.words('english'))\n",
    "\n",
    "# function to remove stopwords\n",
    "def remove_stopwords(text):\n",
    "    no_stopword_text = [w for w in text.split() if not w in stop_words]\n",
    "    return ' '.join(no_stopword_text)\n",
    "\n",
    "train_df['plot'] = train_df['plot'].apply(lambda x: remove_stopwords(x))\n",
    "test_df['plot'] = test_df['plot'].apply(lambda x: remove_stopwords(x))\n",
    "\n",
    "train_df"
   ]
  },
  {
   "cell_type": "code",
   "execution_count": 150,
   "metadata": {
    "colab": {
     "base_uri": "https://localhost:8080/",
     "height": 399
    },
    "id": "LgksLLahemTn",
    "outputId": "464e2f6e-2f9f-415f-e126-a9bd7759b844"
   },
   "outputs": [
    {
     "data": {
      "text/html": [
       "<div>\n",
       "<style scoped>\n",
       "    .dataframe tbody tr th:only-of-type {\n",
       "        vertical-align: middle;\n",
       "    }\n",
       "\n",
       "    .dataframe tbody tr th {\n",
       "        vertical-align: top;\n",
       "    }\n",
       "\n",
       "    .dataframe thead th {\n",
       "        text-align: right;\n",
       "    }\n",
       "</style>\n",
       "<table border=\"1\" class=\"dataframe\">\n",
       "  <thead>\n",
       "    <tr style=\"text-align: right;\">\n",
       "      <th></th>\n",
       "      <th>movie_id</th>\n",
       "      <th>movie_name</th>\n",
       "      <th>plot</th>\n",
       "      <th>genre</th>\n",
       "    </tr>\n",
       "  </thead>\n",
       "  <tbody>\n",
       "    <tr>\n",
       "      <th>0</th>\n",
       "      <td>33628861</td>\n",
       "      <td>Kan Simittum Neram</td>\n",
       "      <td>film begins man karthik tried kill lakshmi amb...</td>\n",
       "      <td>thriller</td>\n",
       "    </tr>\n",
       "    <tr>\n",
       "      <th>1</th>\n",
       "      <td>30413435</td>\n",
       "      <td>A Million</td>\n",
       "      <td>eight people enter reality tv show win billion...</td>\n",
       "      <td>thriller</td>\n",
       "    </tr>\n",
       "    <tr>\n",
       "      <th>2</th>\n",
       "      <td>33643382</td>\n",
       "      <td>The Rainbowmaker</td>\n",
       "      <td>datho innocent prison many years comes home no...</td>\n",
       "      <td>romance film</td>\n",
       "    </tr>\n",
       "    <tr>\n",
       "      <th>3</th>\n",
       "      <td>3961516</td>\n",
       "      <td>Distant</td>\n",
       "      <td>uzak tells story yusuf young factory worker lo...</td>\n",
       "      <td>world cinema drama</td>\n",
       "    </tr>\n",
       "    <tr>\n",
       "      <th>4</th>\n",
       "      <td>155303</td>\n",
       "      <td>Heavy Metal</td>\n",
       "      <td>films title sequence story opens space shuttle...</td>\n",
       "      <td>animation indie science fiction adventure</td>\n",
       "    </tr>\n",
       "    <tr>\n",
       "      <th>...</th>\n",
       "      <td>...</td>\n",
       "      <td>...</td>\n",
       "      <td>...</td>\n",
       "      <td>...</td>\n",
       "    </tr>\n",
       "    <tr>\n",
       "      <th>6103</th>\n",
       "      <td>29046736</td>\n",
       "      <td>I Don't Want to Be Born</td>\n",
       "      <td>lucy working dancer sleazy strip joint stage a...</td>\n",
       "      <td>horror</td>\n",
       "    </tr>\n",
       "    <tr>\n",
       "      <th>6104</th>\n",
       "      <td>30352708</td>\n",
       "      <td>Paju</td>\n",
       "      <td>twenty something eun mo listens taxi driver dr...</td>\n",
       "      <td>romantic drama romance film world cinema drama</td>\n",
       "    </tr>\n",
       "    <tr>\n",
       "      <th>6105</th>\n",
       "      <td>2867597</td>\n",
       "      <td>Mr. Bill's Real Life Adventures</td>\n",
       "      <td>attempt bring famed mr bill clay characters li...</td>\n",
       "      <td>comedy</td>\n",
       "    </tr>\n",
       "    <tr>\n",
       "      <th>6106</th>\n",
       "      <td>8628195</td>\n",
       "      <td>Kabuliwala</td>\n",
       "      <td>abdur rehman khan middle aged dry fruit seller...</td>\n",
       "      <td>drama</td>\n",
       "    </tr>\n",
       "    <tr>\n",
       "      <th>6107</th>\n",
       "      <td>6040782</td>\n",
       "      <td>Dad's Army</td>\n",
       "      <td>operation dynamo taken place newly conquered f...</td>\n",
       "      <td>comedy</td>\n",
       "    </tr>\n",
       "  </tbody>\n",
       "</table>\n",
       "<p>6108 rows × 4 columns</p>\n",
       "</div>"
      ],
      "text/plain": [
       "      movie_id  ...                                           genre\n",
       "0     33628861  ...                                        thriller\n",
       "1     30413435  ...                                        thriller\n",
       "2     33643382  ...                                    romance film\n",
       "3      3961516  ...                              world cinema drama\n",
       "4       155303  ...       animation indie science fiction adventure\n",
       "...        ...  ...                                             ...\n",
       "6103  29046736  ...                                          horror\n",
       "6104  30352708  ...  romantic drama romance film world cinema drama\n",
       "6105   2867597  ...                                          comedy\n",
       "6106   8628195  ...                                           drama\n",
       "6107   6040782  ...                                          comedy\n",
       "\n",
       "[6108 rows x 4 columns]"
      ]
     },
     "execution_count": 150,
     "metadata": {
      "tags": []
     },
     "output_type": "execute_result"
    }
   ],
   "source": [
    "test_df"
   ]
  },
  {
   "cell_type": "code",
   "execution_count": 151,
   "metadata": {
    "colab": {
     "base_uri": "https://localhost:8080/",
     "height": 877
    },
    "id": "Ee5nwschdYqI",
    "outputId": "9c91b695-4ae4-4a25-cd30-0c1c417ccb62"
   },
   "outputs": [
    {
     "data": {
      "image/png": "[encoded data removed]",
      "text/plain": [
       "<Figure size 864x1080 with 1 Axes>"
      ]
     },
     "metadata": {
      "needs_background": "light",
      "tags": []
     },
     "output_type": "display_data"
    }
   ],
   "source": [
    "freq_words(train_df['plot'], 100)"
   ]
  },
  {
   "cell_type": "code",
   "execution_count": 152,
   "metadata": {
    "colab": {
     "base_uri": "https://localhost:8080/",
     "height": 877
    },
    "id": "cT3BJ8YAdsbw",
    "outputId": "cf82f9f1-17fa-4231-cd04-c65ebbf0296d"
   },
   "outputs": [
    {
     "data": {
      "image/png": "[encoded data removed]",
      "text/plain": [
       "<Figure size 864x1080 with 1 Axes>"
      ]
     },
     "metadata": {
      "needs_background": "light",
      "tags": []
     },
     "output_type": "display_data"
    }
   ],
   "source": [
    "freq_words(test_df['plot'], 100)"
   ]
  },
  {
   "cell_type": "code",
   "execution_count": 153,
   "metadata": {
    "colab": {
     "base_uri": "https://localhost:8080/",
     "height": 399
    },
    "id": "kBizfIiZfNqF",
    "outputId": "dddcd37c-e077-4fd9-e561-c0c8aa92882e"
   },
   "outputs": [
    {
     "data": {
      "text/html": [
       "<div>\n",
       "<style scoped>\n",
       "    .dataframe tbody tr th:only-of-type {\n",
       "        vertical-align: middle;\n",
       "    }\n",
       "\n",
       "    .dataframe tbody tr th {\n",
       "        vertical-align: top;\n",
       "    }\n",
       "\n",
       "    .dataframe thead th {\n",
       "        text-align: right;\n",
       "    }\n",
       "</style>\n",
       "<table border=\"1\" class=\"dataframe\">\n",
       "  <thead>\n",
       "    <tr style=\"text-align: right;\">\n",
       "      <th></th>\n",
       "      <th>movie_id</th>\n",
       "      <th>movie_name</th>\n",
       "      <th>plot</th>\n",
       "      <th>genre</th>\n",
       "    </tr>\n",
       "  </thead>\n",
       "  <tbody>\n",
       "    <tr>\n",
       "      <th>0</th>\n",
       "      <td>23890098</td>\n",
       "      <td>Taxi Blues</td>\n",
       "      <td>shlykov hard working taxi driver lyosha saxoph...</td>\n",
       "      <td>world cinema drama</td>\n",
       "    </tr>\n",
       "    <tr>\n",
       "      <th>1</th>\n",
       "      <td>31186339</td>\n",
       "      <td>The Hunger Games</td>\n",
       "      <td>nation panem consists wealthy capitol twelve p...</td>\n",
       "      <td>action adventure action science fiction drama</td>\n",
       "    </tr>\n",
       "    <tr>\n",
       "      <th>2</th>\n",
       "      <td>20663735</td>\n",
       "      <td>Narasimham</td>\n",
       "      <td>poovalli induchoodan sentenced six years priso...</td>\n",
       "      <td>musical action drama</td>\n",
       "    </tr>\n",
       "    <tr>\n",
       "      <th>3</th>\n",
       "      <td>2231378</td>\n",
       "      <td>The Lemon Drop Kid</td>\n",
       "      <td>lemon drop kid new york city swindler illegall...</td>\n",
       "      <td>comedy</td>\n",
       "    </tr>\n",
       "    <tr>\n",
       "      <th>4</th>\n",
       "      <td>595909</td>\n",
       "      <td>A Cry in the Dark</td>\n",
       "      <td>seventh day adventist church pastor michael ch...</td>\n",
       "      <td>crime fiction world cinema drama</td>\n",
       "    </tr>\n",
       "    <tr>\n",
       "      <th>...</th>\n",
       "      <td>...</td>\n",
       "      <td>...</td>\n",
       "      <td>...</td>\n",
       "      <td>...</td>\n",
       "    </tr>\n",
       "    <tr>\n",
       "      <th>24995</th>\n",
       "      <td>2632500</td>\n",
       "      <td>Single White Female</td>\n",
       "      <td>allison allie jones software designer new york...</td>\n",
       "      <td>thriller drama</td>\n",
       "    </tr>\n",
       "    <tr>\n",
       "      <th>24996</th>\n",
       "      <td>30237779</td>\n",
       "      <td>On the Way Home</td>\n",
       "      <td>family loses daughter sarah car accident frien...</td>\n",
       "      <td>short film</td>\n",
       "    </tr>\n",
       "    <tr>\n",
       "      <th>24997</th>\n",
       "      <td>25971350</td>\n",
       "      <td>Blue Valentine</td>\n",
       "      <td>movie starts present clips looks back cindy de...</td>\n",
       "      <td>drama indie romance film romantic drama</td>\n",
       "    </tr>\n",
       "    <tr>\n",
       "      <th>24998</th>\n",
       "      <td>34985261</td>\n",
       "      <td>Ki l'ambouba</td>\n",
       "      <td>like every day hallouma leaves home go work sp...</td>\n",
       "      <td>animation</td>\n",
       "    </tr>\n",
       "    <tr>\n",
       "      <th>24999</th>\n",
       "      <td>21091632</td>\n",
       "      <td>When I Met U</td>\n",
       "      <td>jenny unpretentious mall promodizer searching ...</td>\n",
       "      <td>romantic drama romance film romantic comedy dr...</td>\n",
       "    </tr>\n",
       "  </tbody>\n",
       "</table>\n",
       "<p>24997 rows × 4 columns</p>\n",
       "</div>"
      ],
      "text/plain": [
       "       movie_id  ...                                              genre\n",
       "0      23890098  ...                                 world cinema drama\n",
       "1      31186339  ...      action adventure action science fiction drama\n",
       "2      20663735  ...                               musical action drama\n",
       "3       2231378  ...                                             comedy\n",
       "4        595909  ...                   crime fiction world cinema drama\n",
       "...         ...  ...                                                ...\n",
       "24995   2632500  ...                                     thriller drama\n",
       "24996  30237779  ...                                         short film\n",
       "24997  25971350  ...            drama indie romance film romantic drama\n",
       "24998  34985261  ...                                          animation\n",
       "24999  21091632  ...  romantic drama romance film romantic comedy dr...\n",
       "\n",
       "[24997 rows x 4 columns]"
      ]
     },
     "execution_count": 153,
     "metadata": {
      "tags": []
     },
     "output_type": "execute_result"
    }
   ],
   "source": [
    "train_df = train_df.drop_duplicates(subset={\"movie_name\",\"plot\"},keep = 'first', inplace = False)\n",
    "\n",
    "train_df"
   ]
  },
  {
   "cell_type": "code",
   "execution_count": 154,
   "metadata": {
    "id": "WqgQaVnOlLwa"
   },
   "outputs": [],
   "source": [
    "train_df = train_df.drop(columns = [\"movie_id\",\"movie_name\"])\n",
    "test_df = test_df.drop(columns = [\"movie_id\",\"movie_name\"])"
   ]
  },
  {
   "cell_type": "code",
   "execution_count": 155,
   "metadata": {
    "colab": {
     "base_uri": "https://localhost:8080/",
     "height": 399
    },
    "id": "NRtQ6OeKqSe0",
    "outputId": "f31191c4-290e-4a32-a40b-0bc03ef73f05"
   },
   "outputs": [
    {
     "data": {
      "text/html": [
       "<div>\n",
       "<style scoped>\n",
       "    .dataframe tbody tr th:only-of-type {\n",
       "        vertical-align: middle;\n",
       "    }\n",
       "\n",
       "    .dataframe tbody tr th {\n",
       "        vertical-align: top;\n",
       "    }\n",
       "\n",
       "    .dataframe thead th {\n",
       "        text-align: right;\n",
       "    }\n",
       "</style>\n",
       "<table border=\"1\" class=\"dataframe\">\n",
       "  <thead>\n",
       "    <tr style=\"text-align: right;\">\n",
       "      <th></th>\n",
       "      <th>plot</th>\n",
       "      <th>genre</th>\n",
       "    </tr>\n",
       "  </thead>\n",
       "  <tbody>\n",
       "    <tr>\n",
       "      <th>0</th>\n",
       "      <td>shlykov hard working taxi driver lyosha saxoph...</td>\n",
       "      <td>world cinema drama</td>\n",
       "    </tr>\n",
       "    <tr>\n",
       "      <th>1</th>\n",
       "      <td>nation panem consists wealthy capitol twelve p...</td>\n",
       "      <td>action adventure action science fiction drama</td>\n",
       "    </tr>\n",
       "    <tr>\n",
       "      <th>2</th>\n",
       "      <td>poovalli induchoodan sentenced six years priso...</td>\n",
       "      <td>musical action drama</td>\n",
       "    </tr>\n",
       "    <tr>\n",
       "      <th>3</th>\n",
       "      <td>lemon drop kid new york city swindler illegall...</td>\n",
       "      <td>comedy</td>\n",
       "    </tr>\n",
       "    <tr>\n",
       "      <th>4</th>\n",
       "      <td>seventh day adventist church pastor michael ch...</td>\n",
       "      <td>crime fiction world cinema drama</td>\n",
       "    </tr>\n",
       "    <tr>\n",
       "      <th>...</th>\n",
       "      <td>...</td>\n",
       "      <td>...</td>\n",
       "    </tr>\n",
       "    <tr>\n",
       "      <th>24995</th>\n",
       "      <td>allison allie jones software designer new york...</td>\n",
       "      <td>thriller drama</td>\n",
       "    </tr>\n",
       "    <tr>\n",
       "      <th>24996</th>\n",
       "      <td>family loses daughter sarah car accident frien...</td>\n",
       "      <td>short film</td>\n",
       "    </tr>\n",
       "    <tr>\n",
       "      <th>24997</th>\n",
       "      <td>movie starts present clips looks back cindy de...</td>\n",
       "      <td>drama indie romance film romantic drama</td>\n",
       "    </tr>\n",
       "    <tr>\n",
       "      <th>24998</th>\n",
       "      <td>like every day hallouma leaves home go work sp...</td>\n",
       "      <td>animation</td>\n",
       "    </tr>\n",
       "    <tr>\n",
       "      <th>24999</th>\n",
       "      <td>jenny unpretentious mall promodizer searching ...</td>\n",
       "      <td>romantic drama romance film romantic comedy dr...</td>\n",
       "    </tr>\n",
       "  </tbody>\n",
       "</table>\n",
       "<p>24997 rows × 2 columns</p>\n",
       "</div>"
      ],
      "text/plain": [
       "                                                    plot                                              genre\n",
       "0      shlykov hard working taxi driver lyosha saxoph...                                 world cinema drama\n",
       "1      nation panem consists wealthy capitol twelve p...      action adventure action science fiction drama\n",
       "2      poovalli induchoodan sentenced six years priso...                               musical action drama\n",
       "3      lemon drop kid new york city swindler illegall...                                             comedy\n",
       "4      seventh day adventist church pastor michael ch...                   crime fiction world cinema drama\n",
       "...                                                  ...                                                ...\n",
       "24995  allison allie jones software designer new york...                                     thriller drama\n",
       "24996  family loses daughter sarah car accident frien...                                         short film\n",
       "24997  movie starts present clips looks back cindy de...            drama indie romance film romantic drama\n",
       "24998  like every day hallouma leaves home go work sp...                                          animation\n",
       "24999  jenny unpretentious mall promodizer searching ...  romantic drama romance film romantic comedy dr...\n",
       "\n",
       "[24997 rows x 2 columns]"
      ]
     },
     "execution_count": 155,
     "metadata": {
      "tags": []
     },
     "output_type": "execute_result"
    }
   ],
   "source": [
    "train_df"
   ]
  },
  {
   "cell_type": "code",
   "execution_count": 156,
   "metadata": {
    "colab": {
     "base_uri": "https://localhost:8080/",
     "height": 399
    },
    "id": "E00VmY8LqVLD",
    "outputId": "d65c7d05-93b6-4082-cd12-c7a8998f1e9f"
   },
   "outputs": [
    {
     "data": {
      "text/html": [
       "<div>\n",
       "<style scoped>\n",
       "    .dataframe tbody tr th:only-of-type {\n",
       "        vertical-align: middle;\n",
       "    }\n",
       "\n",
       "    .dataframe tbody tr th {\n",
       "        vertical-align: top;\n",
       "    }\n",
       "\n",
       "    .dataframe thead th {\n",
       "        text-align: right;\n",
       "    }\n",
       "</style>\n",
       "<table border=\"1\" class=\"dataframe\">\n",
       "  <thead>\n",
       "    <tr style=\"text-align: right;\">\n",
       "      <th></th>\n",
       "      <th>plot</th>\n",
       "      <th>genre</th>\n",
       "    </tr>\n",
       "  </thead>\n",
       "  <tbody>\n",
       "    <tr>\n",
       "      <th>0</th>\n",
       "      <td>film begins man karthik tried kill lakshmi amb...</td>\n",
       "      <td>thriller</td>\n",
       "    </tr>\n",
       "    <tr>\n",
       "      <th>1</th>\n",
       "      <td>eight people enter reality tv show win billion...</td>\n",
       "      <td>thriller</td>\n",
       "    </tr>\n",
       "    <tr>\n",
       "      <th>2</th>\n",
       "      <td>datho innocent prison many years comes home no...</td>\n",
       "      <td>romance film</td>\n",
       "    </tr>\n",
       "    <tr>\n",
       "      <th>3</th>\n",
       "      <td>uzak tells story yusuf young factory worker lo...</td>\n",
       "      <td>world cinema drama</td>\n",
       "    </tr>\n",
       "    <tr>\n",
       "      <th>4</th>\n",
       "      <td>films title sequence story opens space shuttle...</td>\n",
       "      <td>animation indie science fiction adventure</td>\n",
       "    </tr>\n",
       "    <tr>\n",
       "      <th>...</th>\n",
       "      <td>...</td>\n",
       "      <td>...</td>\n",
       "    </tr>\n",
       "    <tr>\n",
       "      <th>6103</th>\n",
       "      <td>lucy working dancer sleazy strip joint stage a...</td>\n",
       "      <td>horror</td>\n",
       "    </tr>\n",
       "    <tr>\n",
       "      <th>6104</th>\n",
       "      <td>twenty something eun mo listens taxi driver dr...</td>\n",
       "      <td>romantic drama romance film world cinema drama</td>\n",
       "    </tr>\n",
       "    <tr>\n",
       "      <th>6105</th>\n",
       "      <td>attempt bring famed mr bill clay characters li...</td>\n",
       "      <td>comedy</td>\n",
       "    </tr>\n",
       "    <tr>\n",
       "      <th>6106</th>\n",
       "      <td>abdur rehman khan middle aged dry fruit seller...</td>\n",
       "      <td>drama</td>\n",
       "    </tr>\n",
       "    <tr>\n",
       "      <th>6107</th>\n",
       "      <td>operation dynamo taken place newly conquered f...</td>\n",
       "      <td>comedy</td>\n",
       "    </tr>\n",
       "  </tbody>\n",
       "</table>\n",
       "<p>6108 rows × 2 columns</p>\n",
       "</div>"
      ],
      "text/plain": [
       "                                                   plot                                           genre\n",
       "0     film begins man karthik tried kill lakshmi amb...                                        thriller\n",
       "1     eight people enter reality tv show win billion...                                        thriller\n",
       "2     datho innocent prison many years comes home no...                                    romance film\n",
       "3     uzak tells story yusuf young factory worker lo...                              world cinema drama\n",
       "4     films title sequence story opens space shuttle...       animation indie science fiction adventure\n",
       "...                                                 ...                                             ...\n",
       "6103  lucy working dancer sleazy strip joint stage a...                                          horror\n",
       "6104  twenty something eun mo listens taxi driver dr...  romantic drama romance film world cinema drama\n",
       "6105  attempt bring famed mr bill clay characters li...                                          comedy\n",
       "6106  abdur rehman khan middle aged dry fruit seller...                                           drama\n",
       "6107  operation dynamo taken place newly conquered f...                                          comedy\n",
       "\n",
       "[6108 rows x 2 columns]"
      ]
     },
     "execution_count": 156,
     "metadata": {
      "tags": []
     },
     "output_type": "execute_result"
    }
   ],
   "source": [
    "test_df"
   ]
  },
  {
   "cell_type": "code",
   "execution_count": 157,
   "metadata": {
    "id": "3bQm2E8GrPn5"
   },
   "outputs": [],
   "source": [
    "# binary='true' will give a binary vectorizer\n",
    "\n",
    "vectorizer_c = CountVectorizer(tokenizer = lambda x: x.split(), binary='true')\n",
    "ml_y = vectorizer_c.fit_transform(train_df['genre'])\n",
    "ml_y_test = vectorizer_c.fit_transform(test_df['genre'])"
   ]
  },
  {
   "cell_type": "code",
   "execution_count": 158,
   "metadata": {
    "id": "RbOGKXqNtX9t"
   },
   "outputs": [],
   "source": [
    "vectorizer_t = TfidfVectorizer(max_features = 4500)\n",
    "ml_x = vectorizer_t.fit_transform(train_df['plot'])\n",
    "ml_x_test = vectorizer_t.fit_transform(test_df['plot'])"
   ]
  },
  {
   "cell_type": "code",
   "execution_count": 159,
   "metadata": {
    "colab": {
     "base_uri": "https://localhost:8080/"
    },
    "id": "V8SiPn2LuJ59",
    "outputId": "90d3c00b-45f4-49fb-93ee-4e2e72834845"
   },
   "outputs": [
    {
     "data": {
      "text/plain": [
       "OneVsRestClassifier(estimator=SGDClassifier(alpha=1e-05, average=False,\n",
       "                                            class_weight=None,\n",
       "                                            early_stopping=False, epsilon=0.1,\n",
       "                                            eta0=0.0, fit_intercept=True,\n",
       "                                            l1_ratio=0.15,\n",
       "                                            learning_rate='optimal', loss='log',\n",
       "                                            max_iter=1000, n_iter_no_change=5,\n",
       "                                            n_jobs=None, penalty='l1',\n",
       "                                            power_t=0.5, random_state=None,\n",
       "                                            shuffle=True, tol=0.001,\n",
       "                                            validation_fraction=0.1, verbose=0,\n",
       "                                            warm_start=False),\n",
       "                    n_jobs=-1)"
      ]
     },
     "execution_count": 159,
     "metadata": {
      "tags": []
     },
     "output_type": "execute_result"
    }
   ],
   "source": [
    "sgd = SGDClassifier(loss='log', alpha=0.00001, penalty='l1')\n",
    "clf = OneVsRestClassifier(sgd, n_jobs=-1)\n",
    "clf.fit(ml_x, ml_y)"
   ]
  },
  {
   "cell_type": "code",
   "execution_count": 160,
   "metadata": {
    "colab": {
     "base_uri": "https://localhost:8080/"
    },
    "id": "1O1JAS4Yulyj",
    "outputId": "81c41c68-53c6-40f3-e3b2-e97abe2fe0f9"
   },
   "outputs": [
    {
     "name": "stdout",
     "output_type": "stream",
     "text": [
      "Accuracy: 3.356254093%\n"
     ]
    }
   ],
   "source": [
    "y_pred = clf.predict(ml_x_test)\n",
    "print(\"Accuracy: {0:.9%}\".format(metrics.accuracy_score(ml_y_test, y_pred)))"
   ]
  },
  {
   "cell_type": "code",
   "execution_count": 161,
   "metadata": {
    "colab": {
     "base_uri": "https://localhost:8080/"
    },
    "id": "t6MsMF_qvnJB",
    "outputId": "feed2943-2920-4727-e20a-03eb299dd1a4"
   },
   "outputs": [
    {
     "name": "stdout",
     "output_type": "stream",
     "text": [
      "Precision: 31.917098446%\n"
     ]
    }
   ],
   "source": [
    "print(\"Precision: {0:.9%}\".format(precision_score(ml_y_test, y_pred, average='micro')))"
   ]
  },
  {
   "cell_type": "code",
   "execution_count": 162,
   "metadata": {
    "colab": {
     "base_uri": "https://localhost:8080/"
    },
    "id": "NIb2-7aJwFSf",
    "outputId": "96ee07d1-8034-49cc-f3f2-680ef91431aa"
   },
   "outputs": [
    {
     "name": "stdout",
     "output_type": "stream",
     "text": [
      "Recall: 0.140\n"
     ]
    }
   ],
   "source": [
    "recall = recall_score(ml_y_test, y_pred, average='micro')\n",
    "print(\"Recall: %.3f\" % recall)"
   ]
  },
  {
   "cell_type": "code",
   "execution_count": 163,
   "metadata": {
    "colab": {
     "base_uri": "https://localhost:8080/"
    },
    "id": "xBu1_fNPxMMe",
    "outputId": "12507d8d-27c8-4e02-f523-7cf38c84eca9"
   },
   "outputs": [
    {
     "name": "stdout",
     "output_type": "stream",
     "text": [
      "F1 Score:  19.430133530%\n"
     ]
    }
   ],
   "source": [
    "f1 = f1_score(ml_y_test, y_pred, average='micro')\n",
    "print(\"F1 Score:  {0:.9%}\".format(f1))"
   ]
  },
  {
   "cell_type": "code",
   "execution_count": 164,
   "metadata": {
    "id": "8O11w63MxnYn"
   },
   "outputs": [],
   "source": [
    "y_pred_prob = clf.predict_proba(ml_x_test)\n",
    "t = 0.1 # threshold value\n",
    "y_pred_new = (y_pred_prob >= t).astype(int)"
   ]
  },
  {
   "cell_type": "code",
   "execution_count": 165,
   "metadata": {
    "colab": {
     "base_uri": "https://localhost:8080/"
    },
    "id": "Mnur9vPqx3Uu",
    "outputId": "b0141fe0-f604-4b01-ec89-f09ec5a3a9ec"
   },
   "outputs": [
    {
     "name": "stdout",
     "output_type": "stream",
     "text": [
      "F1 Score:  30.483304565%\n"
     ]
    }
   ],
   "source": [
    "f1 = f1_score(ml_y_test, y_pred_new, average='micro')\n",
    "print(\"F1 Score:  {0:.9%}\".format(f1))"
   ]
  }
 ],
 "metadata": {
  "colab": {
   "name": "main.ipynb",
   "provenance": []
  },
  "kernelspec": {
   "display_name": "Python 3",
   "language": "python",
   "name": "python3"
  },
  "language_info": {
   "codemirror_mode": {
    "name": "ipython",
    "version": 3
   },
   "file_extension": ".py",
   "mimetype": "text/x-python",
   "name": "python",
   "nbconvert_exporter": "python",
   "pygments_lexer": "ipython3",
   "version": "3.8.8"
  }
 },
 "nbformat": 4,
 "nbformat_minor": 1
}
